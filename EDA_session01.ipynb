{
 "cells": [
  {
   "cell_type": "markdown",
   "id": "dd9aab41-a4d8-4a38-8711-d5189896c3e4",
   "metadata": {},
   "source": [
    "## EDA ##\n",
    "\n",
    "- 1) Pandas : Data frame applications \n",
    "     \n",
    "- 2) Numpy : Numerical python\n",
    "\n",
    "- 3) Matplotlib : used for plotting\n",
    "\n",
    "- 4) Seaborn : plotting\n",
    " \n",
    "- 5) Bonkhe : plot"
   ]
  },
  {
   "cell_type": "markdown",
   "id": "ed18d6ee-bc01-4b1b-96d1-c823631845d5",
   "metadata": {},
   "source": [
    "## Machine Learning ##\n",
    "\n",
    "- 7) Sickit-Learn : sklearn"
   ]
  },
  {
   "cell_type": "markdown",
   "id": "8b4cf78f-2772-46c3-9024-b3f3a5d95a13",
   "metadata": {},
   "source": [
    "## Deep Learning ##\n",
    "\n",
    "- 8) Tensorflow : Developed Google\n",
    "\n",
    "- 9) Keras : Google\n",
    "\n",
    "- 10) Pytorch : Facebook\n",
    "\n"
   ]
  },
  {
   "cell_type": "markdown",
   "id": "a95c4f82-4a8e-4d10-b814-655edfa1d4e8",
   "metadata": {},
   "source": [
    "## NLP ##\n",
    "\n",
    "- 11) NLTK : Natural language toolkit\n",
    "\n",
    "- 12) Scipy "
   ]
  },
  {
   "cell_type": "markdown",
   "id": "61d8b639-53a2-41f4-a7d1-fec6454e70d9",
   "metadata": {},
   "source": [
    "## BERT  ##\n",
    "\n",
    "- 13) Transformers : Hugging face (google)"
   ]
  },
  {
   "cell_type": "markdown",
   "id": "b4b63f4e-abf3-4e4d-9024-09d69e108ace",
   "metadata": {},
   "source": [
    "## Google Models ## \n",
    "\n",
    "- 14) Specific google packages"
   ]
  },
  {
   "cell_type": "markdown",
   "id": "dd5f38fe-6bfe-4d57-87fe-90ce26be3f3c",
   "metadata": {},
   "source": [
    "## Azure ML ##\n",
    "\n",
    "- 15) Azure packages"
   ]
  },
  {
   "cell_type": "markdown",
   "id": "5acaabcf-93e3-4619-a09c-a98a705f781a",
   "metadata": {},
   "source": [
    "## GenAI ##\n",
    "\n",
    "- 16) Gemini - Google\n",
    "\n",
    "- 17) ChatGpt : openAi"
   ]
  },
  {
   "cell_type": "markdown",
   "id": "2e8218d4-c846-45e1-b206-ca75ea0a2670",
   "metadata": {},
   "source": [
    "## LangChain ##\n",
    "\n",
    "- LangChain packages"
   ]
  },
  {
   "cell_type": "markdown",
   "id": "b81ed8f7-1750-471e-9c86-10d643510f76",
   "metadata": {},
   "source": [
    "## Create a dataframe using list ## "
   ]
  },
  {
   "cell_type": "markdown",
   "id": "bde678e1-d7b5-4315-bb24-98051219ae2c",
   "metadata": {},
   "source": [
    "#- list  == conversion into dict and vise versa"
   ]
  },
  {
   "cell_type": "code",
   "execution_count": 2,
   "id": "e4442ec9-4a09-4bab-bbba-1dd5686980e6",
   "metadata": {},
   "outputs": [
    {
     "data": {
      "text/html": [
       "<div>\n",
       "<style scoped>\n",
       "    .dataframe tbody tr th:only-of-type {\n",
       "        vertical-align: middle;\n",
       "    }\n",
       "\n",
       "    .dataframe tbody tr th {\n",
       "        vertical-align: top;\n",
       "    }\n",
       "\n",
       "    .dataframe thead th {\n",
       "        text-align: right;\n",
       "    }\n",
       "</style>\n",
       "<table border=\"1\" class=\"dataframe\">\n",
       "  <thead>\n",
       "    <tr style=\"text-align: right;\">\n",
       "      <th></th>\n",
       "    </tr>\n",
       "  </thead>\n",
       "  <tbody>\n",
       "  </tbody>\n",
       "</table>\n",
       "</div>"
      ],
      "text/plain": [
       "Empty DataFrame\n",
       "Columns: []\n",
       "Index: []"
      ]
     },
     "execution_count": 2,
     "metadata": {},
     "output_type": "execute_result"
    }
   ],
   "source": [
    "import pandas as pd\n",
    "\n",
    "names = ['Anuja','Suraj', 'Gauri']\n",
    "\n",
    "age = ['33','34', '1']\n",
    "\n",
    "pd.DataFrame()   # empty data frame will be created , no rows , no columns"
   ]
  },
  {
   "cell_type": "code",
   "execution_count": 11,
   "id": "8ebd36e5-78d4-4ace-8272-1dc224e989f1",
   "metadata": {},
   "outputs": [
    {
     "data": {
      "text/html": [
       "<div>\n",
       "<style scoped>\n",
       "    .dataframe tbody tr th:only-of-type {\n",
       "        vertical-align: middle;\n",
       "    }\n",
       "\n",
       "    .dataframe tbody tr th {\n",
       "        vertical-align: top;\n",
       "    }\n",
       "\n",
       "    .dataframe thead th {\n",
       "        text-align: right;\n",
       "    }\n",
       "</style>\n",
       "<table border=\"1\" class=\"dataframe\">\n",
       "  <thead>\n",
       "    <tr style=\"text-align: right;\">\n",
       "      <th></th>\n",
       "      <th>0</th>\n",
       "    </tr>\n",
       "  </thead>\n",
       "  <tbody>\n",
       "    <tr>\n",
       "      <th>0</th>\n",
       "      <td>Anuja</td>\n",
       "    </tr>\n",
       "    <tr>\n",
       "      <th>1</th>\n",
       "      <td>Suraj</td>\n",
       "    </tr>\n",
       "    <tr>\n",
       "      <th>2</th>\n",
       "      <td>Gauri</td>\n",
       "    </tr>\n",
       "  </tbody>\n",
       "</table>\n",
       "</div>"
      ],
      "text/plain": [
       "       0\n",
       "0  Anuja\n",
       "1  Suraj\n",
       "2  Gauri"
      ]
     },
     "execution_count": 11,
     "metadata": {},
     "output_type": "execute_result"
    }
   ],
   "source": [
    "pd.DataFrame(names) "
   ]
  },
  {
   "cell_type": "code",
   "execution_count": 12,
   "id": "26ce32bf-4f8b-4dc4-91e1-f76e32070a8f",
   "metadata": {},
   "outputs": [
    {
     "data": {
      "text/html": [
       "<div>\n",
       "<style scoped>\n",
       "    .dataframe tbody tr th:only-of-type {\n",
       "        vertical-align: middle;\n",
       "    }\n",
       "\n",
       "    .dataframe tbody tr th {\n",
       "        vertical-align: top;\n",
       "    }\n",
       "\n",
       "    .dataframe thead th {\n",
       "        text-align: right;\n",
       "    }\n",
       "</style>\n",
       "<table border=\"1\" class=\"dataframe\">\n",
       "  <thead>\n",
       "    <tr style=\"text-align: right;\">\n",
       "      <th></th>\n",
       "      <th>0</th>\n",
       "    </tr>\n",
       "  </thead>\n",
       "  <tbody>\n",
       "    <tr>\n",
       "      <th>33</th>\n",
       "      <td>Anuja</td>\n",
       "    </tr>\n",
       "    <tr>\n",
       "      <th>34</th>\n",
       "      <td>Suraj</td>\n",
       "    </tr>\n",
       "    <tr>\n",
       "      <th>1</th>\n",
       "      <td>Gauri</td>\n",
       "    </tr>\n",
       "  </tbody>\n",
       "</table>\n",
       "</div>"
      ],
      "text/plain": [
       "        0\n",
       "33  Anuja\n",
       "34  Suraj\n",
       "1   Gauri"
      ]
     },
     "execution_count": 12,
     "metadata": {},
     "output_type": "execute_result"
    }
   ],
   "source": [
    "pd.DataFrame(names,age) "
   ]
  },
  {
   "cell_type": "code",
   "execution_count": 13,
   "id": "601b283d-6730-4d06-9f90-1d524cd2a57e",
   "metadata": {},
   "outputs": [
    {
     "data": {
      "text/html": [
       "<div>\n",
       "<style scoped>\n",
       "    .dataframe tbody tr th:only-of-type {\n",
       "        vertical-align: middle;\n",
       "    }\n",
       "\n",
       "    .dataframe tbody tr th {\n",
       "        vertical-align: top;\n",
       "    }\n",
       "\n",
       "    .dataframe thead th {\n",
       "        text-align: right;\n",
       "    }\n",
       "</style>\n",
       "<table border=\"1\" class=\"dataframe\">\n",
       "  <thead>\n",
       "    <tr style=\"text-align: right;\">\n",
       "      <th></th>\n",
       "      <th>0</th>\n",
       "      <th>1</th>\n",
       "    </tr>\n",
       "  </thead>\n",
       "  <tbody>\n",
       "    <tr>\n",
       "      <th>0</th>\n",
       "      <td>Anuja</td>\n",
       "      <td>33</td>\n",
       "    </tr>\n",
       "    <tr>\n",
       "      <th>1</th>\n",
       "      <td>Suraj</td>\n",
       "      <td>34</td>\n",
       "    </tr>\n",
       "    <tr>\n",
       "      <th>2</th>\n",
       "      <td>Gauri</td>\n",
       "      <td>1</td>\n",
       "    </tr>\n",
       "  </tbody>\n",
       "</table>\n",
       "</div>"
      ],
      "text/plain": [
       "       0   1\n",
       "0  Anuja  33\n",
       "1  Suraj  34\n",
       "2  Gauri   1"
      ]
     },
     "execution_count": 13,
     "metadata": {},
     "output_type": "execute_result"
    }
   ],
   "source": [
    "# first positional argument : data\n",
    "# second positional argument : index\n",
    "\n",
    "pd.DataFrame(zip(names,age))"
   ]
  },
  {
   "cell_type": "code",
   "execution_count": 14,
   "id": "b2d59051-195a-4090-8424-1482fac84d25",
   "metadata": {},
   "outputs": [
    {
     "data": {
      "text/html": [
       "<div>\n",
       "<style scoped>\n",
       "    .dataframe tbody tr th:only-of-type {\n",
       "        vertical-align: middle;\n",
       "    }\n",
       "\n",
       "    .dataframe tbody tr th {\n",
       "        vertical-align: top;\n",
       "    }\n",
       "\n",
       "    .dataframe thead th {\n",
       "        text-align: right;\n",
       "    }\n",
       "</style>\n",
       "<table border=\"1\" class=\"dataframe\">\n",
       "  <thead>\n",
       "    <tr style=\"text-align: right;\">\n",
       "      <th></th>\n",
       "      <th>0</th>\n",
       "      <th>1</th>\n",
       "    </tr>\n",
       "  </thead>\n",
       "  <tbody>\n",
       "    <tr>\n",
       "      <th>Mother</th>\n",
       "      <td>Anuja</td>\n",
       "      <td>33</td>\n",
       "    </tr>\n",
       "    <tr>\n",
       "      <th>Father</th>\n",
       "      <td>Suraj</td>\n",
       "      <td>34</td>\n",
       "    </tr>\n",
       "    <tr>\n",
       "      <th>Child</th>\n",
       "      <td>Gauri</td>\n",
       "      <td>1</td>\n",
       "    </tr>\n",
       "  </tbody>\n",
       "</table>\n",
       "</div>"
      ],
      "text/plain": [
       "            0   1\n",
       "Mother  Anuja  33\n",
       "Father  Suraj  34\n",
       "Child   Gauri   1"
      ]
     },
     "execution_count": 14,
     "metadata": {},
     "output_type": "execute_result"
    }
   ],
   "source": [
    "import pandas as pd\n",
    "\n",
    "names = ['Anuja','Suraj', 'Gauri']\n",
    "\n",
    "age = ['33','34', '1']\n",
    "\n",
    "relation = ['Mother', 'Father', 'Child']\n",
    "\n",
    "pd.DataFrame(zip(names,age),relation)"
   ]
  },
  {
   "cell_type": "markdown",
   "id": "965d49df-6282-4808-b4e1-50dd2d5a1887",
   "metadata": {},
   "source": [
    "** provide the column names **\n",
    "\n"
   ]
  },
  {
   "cell_type": "code",
   "execution_count": 18,
   "id": "617f37e7-3a1d-4cef-9135-41952f659268",
   "metadata": {},
   "outputs": [
    {
     "data": {
      "text/html": [
       "<div>\n",
       "<style scoped>\n",
       "    .dataframe tbody tr th:only-of-type {\n",
       "        vertical-align: middle;\n",
       "    }\n",
       "\n",
       "    .dataframe tbody tr th {\n",
       "        vertical-align: top;\n",
       "    }\n",
       "\n",
       "    .dataframe thead th {\n",
       "        text-align: right;\n",
       "    }\n",
       "</style>\n",
       "<table border=\"1\" class=\"dataframe\">\n",
       "  <thead>\n",
       "    <tr style=\"text-align: right;\">\n",
       "      <th></th>\n",
       "      <th>Names</th>\n",
       "      <th>Age</th>\n",
       "      <th>Relation</th>\n",
       "      <th>place</th>\n",
       "    </tr>\n",
       "  </thead>\n",
       "  <tbody>\n",
       "    <tr>\n",
       "      <th>0</th>\n",
       "      <td>Anuja</td>\n",
       "      <td>33</td>\n",
       "      <td>Mother</td>\n",
       "      <td>Belgaum</td>\n",
       "    </tr>\n",
       "    <tr>\n",
       "      <th>1</th>\n",
       "      <td>Suraj</td>\n",
       "      <td>34</td>\n",
       "      <td>Father</td>\n",
       "      <td>Kolhapur</td>\n",
       "    </tr>\n",
       "    <tr>\n",
       "      <th>2</th>\n",
       "      <td>Gauri</td>\n",
       "      <td>1</td>\n",
       "      <td>Child</td>\n",
       "      <td>Pune</td>\n",
       "    </tr>\n",
       "  </tbody>\n",
       "</table>\n",
       "</div>"
      ],
      "text/plain": [
       "   Names Age Relation     place\n",
       "0  Anuja  33   Mother   Belgaum\n",
       "1  Suraj  34   Father  Kolhapur\n",
       "2  Gauri   1    Child      Pune"
      ]
     },
     "execution_count": 18,
     "metadata": {},
     "output_type": "execute_result"
    }
   ],
   "source": [
    "names = ['Anuja','Suraj', 'Gauri']\n",
    "\n",
    "age = ['33','34', '1']\n",
    "\n",
    "relation = ['Mother', 'Father', 'Child']\n",
    "\n",
    "place = ['Belgaum','Kolhapur','Pune']\n",
    "\n",
    "pd.DataFrame(zip(names,age,relation,place),\n",
    "             columns=['Names','Age','Relation','place'])"
   ]
  },
  {
   "cell_type": "code",
   "execution_count": 32,
   "id": "4ca8da7b-1f8c-4fe0-b2d2-aca3723352fd",
   "metadata": {},
   "outputs": [
    {
     "data": {
      "text/html": [
       "<div>\n",
       "<style scoped>\n",
       "    .dataframe tbody tr th:only-of-type {\n",
       "        vertical-align: middle;\n",
       "    }\n",
       "\n",
       "    .dataframe tbody tr th {\n",
       "        vertical-align: top;\n",
       "    }\n",
       "\n",
       "    .dataframe thead th {\n",
       "        text-align: right;\n",
       "    }\n",
       "</style>\n",
       "<table border=\"1\" class=\"dataframe\">\n",
       "  <thead>\n",
       "    <tr style=\"text-align: right;\">\n",
       "      <th></th>\n",
       "      <th>Names</th>\n",
       "      <th>Age</th>\n",
       "      <th>Relation</th>\n",
       "    </tr>\n",
       "  </thead>\n",
       "  <tbody>\n",
       "    <tr>\n",
       "      <th>0</th>\n",
       "      <td>Anuja</td>\n",
       "      <td>33</td>\n",
       "      <td>Mother</td>\n",
       "    </tr>\n",
       "    <tr>\n",
       "      <th>1</th>\n",
       "      <td>Suraj</td>\n",
       "      <td>34</td>\n",
       "      <td>Father</td>\n",
       "    </tr>\n",
       "    <tr>\n",
       "      <th>2</th>\n",
       "      <td>Gauri</td>\n",
       "      <td>1</td>\n",
       "      <td>Child</td>\n",
       "    </tr>\n",
       "  </tbody>\n",
       "</table>\n",
       "</div>"
      ],
      "text/plain": [
       "   Names Age Relation\n",
       "0  Anuja  33   Mother\n",
       "1  Suraj  34   Father\n",
       "2  Gauri   1    Child"
      ]
     },
     "execution_count": 32,
     "metadata": {},
     "output_type": "execute_result"
    }
   ],
   "source": [
    "names = ['Anuja','Suraj', 'Gauri']\n",
    "\n",
    "age = ['33','34', '1']\n",
    "\n",
    "relation = ['Mother', 'Father', 'Child']\n",
    "\n",
    "data= zip(names,age,relation)\n",
    "cols = ['Names','Age','Relation']\n",
    "\n",
    "pd.DataFrame(data,columns=cols)  # store datafrma in df"
   ]
  },
  {
   "cell_type": "code",
   "execution_count": 25,
   "id": "7487f95e-68d5-4b1c-8de0-bce944f12256",
   "metadata": {},
   "outputs": [],
   "source": [
    "df = pd.DataFrame(data,columns=cols)  # store datafrma in df"
   ]
  },
  {
   "cell_type": "code",
   "execution_count": 23,
   "id": "66ad23b8-601b-4af2-8410-cf1c2d5a229c",
   "metadata": {},
   "outputs": [
    {
     "data": {
      "text/plain": [
       "pandas.core.frame.DataFrame"
      ]
     },
     "execution_count": 23,
     "metadata": {},
     "output_type": "execute_result"
    }
   ],
   "source": [
    "type(df)"
   ]
  },
  {
   "cell_type": "markdown",
   "id": "8d317c66-ac82-4227-a620-8e86dfe2f8ec",
   "metadata": {},
   "source": [
    "## Add new column ##"
   ]
  },
  {
   "cell_type": "markdown",
   "id": "ba8261d3-b3ec-40de-8f06-5bbeee3962ce",
   "metadata": {},
   "source": [
    "- Check the number of rows in already existed data\n",
    "\n",
    "- for ex in above the dataframe has 3 rows\n",
    "\n",
    "- you need to create a new list with number of rows ,  3 rows\n",
    "\n",
    "- and that list equate to the data frame"
   ]
  },
  {
   "cell_type": "code",
   "execution_count": 48,
   "id": "5e17af5d-a5fb-4ccf-88d8-fb4616ae1888",
   "metadata": {},
   "outputs": [
    {
     "data": {
      "text/html": [
       "<div>\n",
       "<style scoped>\n",
       "    .dataframe tbody tr th:only-of-type {\n",
       "        vertical-align: middle;\n",
       "    }\n",
       "\n",
       "    .dataframe tbody tr th {\n",
       "        vertical-align: top;\n",
       "    }\n",
       "\n",
       "    .dataframe thead th {\n",
       "        text-align: right;\n",
       "    }\n",
       "</style>\n",
       "<table border=\"1\" class=\"dataframe\">\n",
       "  <thead>\n",
       "    <tr style=\"text-align: right;\">\n",
       "      <th></th>\n",
       "      <th>Names</th>\n",
       "      <th>Age</th>\n",
       "      <th>city</th>\n",
       "    </tr>\n",
       "  </thead>\n",
       "  <tbody>\n",
       "    <tr>\n",
       "      <th>0</th>\n",
       "      <td>Atharv</td>\n",
       "      <td>28</td>\n",
       "      <td>Blore</td>\n",
       "    </tr>\n",
       "    <tr>\n",
       "      <th>1</th>\n",
       "      <td>Shreyash</td>\n",
       "      <td>30</td>\n",
       "      <td>Hyd</td>\n",
       "    </tr>\n",
       "    <tr>\n",
       "      <th>2</th>\n",
       "      <td>Bharghavi</td>\n",
       "      <td>31</td>\n",
       "      <td>Pune</td>\n",
       "    </tr>\n",
       "  </tbody>\n",
       "</table>\n",
       "</div>"
      ],
      "text/plain": [
       "       Names Age   city\n",
       "0     Atharv  28  Blore\n",
       "1   Shreyash  30    Hyd\n",
       "2  Bharghavi  31   Pune"
      ]
     },
     "execution_count": 48,
     "metadata": {},
     "output_type": "execute_result"
    }
   ],
   "source": [
    "names = ['Atharv','Shreyash', 'Bharghavi']\n",
    "\n",
    "age = ['28','30', '31']\n",
    "\n",
    "city = ['Blore', 'Hyd', 'Pune']\n",
    "\n",
    "data= zip(names,age,city)\n",
    "cols = ['Names','Age','city']\n",
    "\n",
    "df=pd.DataFrame(data,columns=cols) \n",
    "\n",
    "df"
   ]
  },
  {
   "cell_type": "markdown",
   "id": "dcd9f51b-ca4b-4751-b281-d3c9ad3fca4b",
   "metadata": {},
   "source": [
    "## create new column and update with new data"
   ]
  },
  {
   "cell_type": "code",
   "execution_count": 51,
   "id": "86cc903e-0e7d-4002-b23c-df92ae33a162",
   "metadata": {},
   "outputs": [],
   "source": [
    "job = [\"Data scientist\", 'Data Engineer', 'Cyber Security']  \n",
    "df['job'] = job"
   ]
  },
  {
   "cell_type": "code",
   "execution_count": 52,
   "id": "c75ffff2-cac8-478a-bf22-9c2d625ba96f",
   "metadata": {},
   "outputs": [
    {
     "data": {
      "text/html": [
       "<div>\n",
       "<style scoped>\n",
       "    .dataframe tbody tr th:only-of-type {\n",
       "        vertical-align: middle;\n",
       "    }\n",
       "\n",
       "    .dataframe tbody tr th {\n",
       "        vertical-align: top;\n",
       "    }\n",
       "\n",
       "    .dataframe thead th {\n",
       "        text-align: right;\n",
       "    }\n",
       "</style>\n",
       "<table border=\"1\" class=\"dataframe\">\n",
       "  <thead>\n",
       "    <tr style=\"text-align: right;\">\n",
       "      <th></th>\n",
       "      <th>Names</th>\n",
       "      <th>Age</th>\n",
       "      <th>city</th>\n",
       "      <th>job</th>\n",
       "    </tr>\n",
       "  </thead>\n",
       "  <tbody>\n",
       "    <tr>\n",
       "      <th>0</th>\n",
       "      <td>Atharv</td>\n",
       "      <td>28</td>\n",
       "      <td>Blore</td>\n",
       "      <td>Data scientist</td>\n",
       "    </tr>\n",
       "    <tr>\n",
       "      <th>1</th>\n",
       "      <td>Shreyash</td>\n",
       "      <td>30</td>\n",
       "      <td>Hyd</td>\n",
       "      <td>Data Engineer</td>\n",
       "    </tr>\n",
       "    <tr>\n",
       "      <th>2</th>\n",
       "      <td>Bharghavi</td>\n",
       "      <td>31</td>\n",
       "      <td>Pune</td>\n",
       "      <td>Cyber Security</td>\n",
       "    </tr>\n",
       "  </tbody>\n",
       "</table>\n",
       "</div>"
      ],
      "text/plain": [
       "       Names Age   city             job\n",
       "0     Atharv  28  Blore  Data scientist\n",
       "1   Shreyash  30    Hyd   Data Engineer\n",
       "2  Bharghavi  31   Pune  Cyber Security"
      ]
     },
     "execution_count": 52,
     "metadata": {},
     "output_type": "execute_result"
    }
   ],
   "source": [
    "df"
   ]
  },
  {
   "cell_type": "markdown",
   "id": "76574e03-9675-4cd0-a232-c1f3cff60174",
   "metadata": {},
   "source": [
    "## How to change the index ## "
   ]
  },
  {
   "cell_type": "code",
   "execution_count": 54,
   "id": "8d716184-68c6-4d19-a3d6-2383205b2e98",
   "metadata": {},
   "outputs": [
    {
     "data": {
      "text/html": [
       "<div>\n",
       "<style scoped>\n",
       "    .dataframe tbody tr th:only-of-type {\n",
       "        vertical-align: middle;\n",
       "    }\n",
       "\n",
       "    .dataframe tbody tr th {\n",
       "        vertical-align: top;\n",
       "    }\n",
       "\n",
       "    .dataframe thead th {\n",
       "        text-align: right;\n",
       "    }\n",
       "</style>\n",
       "<table border=\"1\" class=\"dataframe\">\n",
       "  <thead>\n",
       "    <tr style=\"text-align: right;\">\n",
       "      <th></th>\n",
       "      <th>Names</th>\n",
       "      <th>Age</th>\n",
       "      <th>city</th>\n",
       "    </tr>\n",
       "  </thead>\n",
       "  <tbody>\n",
       "    <tr>\n",
       "      <th>A</th>\n",
       "      <td>Atharv</td>\n",
       "      <td>28</td>\n",
       "      <td>Blore</td>\n",
       "    </tr>\n",
       "    <tr>\n",
       "      <th>B</th>\n",
       "      <td>Shreyash</td>\n",
       "      <td>30</td>\n",
       "      <td>Hyd</td>\n",
       "    </tr>\n",
       "    <tr>\n",
       "      <th>C</th>\n",
       "      <td>Bharghavi</td>\n",
       "      <td>31</td>\n",
       "      <td>Pune</td>\n",
       "    </tr>\n",
       "    <tr>\n",
       "      <th>D</th>\n",
       "      <td>Gauri</td>\n",
       "      <td>29</td>\n",
       "      <td>Mumbai</td>\n",
       "    </tr>\n",
       "  </tbody>\n",
       "</table>\n",
       "</div>"
      ],
      "text/plain": [
       "       Names Age    city\n",
       "A     Atharv  28   Blore\n",
       "B   Shreyash  30     Hyd\n",
       "C  Bharghavi  31    Pune\n",
       "D      Gauri  29  Mumbai"
      ]
     },
     "execution_count": 54,
     "metadata": {},
     "output_type": "execute_result"
    }
   ],
   "source": [
    "names = ['Atharv','Shreyash', 'Bharghavi','Gauri']\n",
    "\n",
    "age = ['28','30', '31','29']\n",
    "\n",
    "city = ['Blore', 'Hyd', 'Pune','Mumbai']\n",
    "\n",
    "data= zip(names,age,city)\n",
    "cols = ['Names','Age','city']\n",
    "idx = ['A','B','C','D']      # number of values in list = number of index\n",
    "\n",
    "df=pd.DataFrame(data,index=idx,columns=cols) \n",
    "df"
   ]
  },
  {
   "cell_type": "markdown",
   "id": "b9188cb2-ab02-48c0-8a46-d9cdb414173b",
   "metadata": {},
   "source": [
    "## Note ##\n",
    "- number of list = **number of columns**\n",
    "\n",
    "- number of values inside list = **number of rows**"
   ]
  },
  {
   "cell_type": "markdown",
   "id": "a0fc0e68-96a8-4a7d-bd1c-23705d468725",
   "metadata": {},
   "source": [
    "## Shape ##\n",
    "\n",
    "- Number of Rows\n",
    "- Number of Columns"
   ]
  },
  {
   "cell_type": "code",
   "execution_count": 56,
   "id": "b10ebf5f-28ae-43e8-be89-9ef3f3f57498",
   "metadata": {
    "scrolled": true
   },
   "outputs": [
    {
     "data": {
      "text/plain": [
       "(4, 3)"
      ]
     },
     "execution_count": 56,
     "metadata": {},
     "output_type": "execute_result"
    }
   ],
   "source": [
    "#matrix format\n",
    "\n",
    "df.shape     # number of rows and columns \n",
    "# 4 rows and 3 columns"
   ]
  },
  {
   "cell_type": "code",
   "execution_count": 57,
   "id": "f57b69f7-3b53-4c3a-9ab9-1709d9dd710c",
   "metadata": {},
   "outputs": [
    {
     "name": "stdout",
     "output_type": "stream",
     "text": [
      "The number of rows are: 4\n",
      "The number of columns are: 3\n"
     ]
    }
   ],
   "source": [
    "print(\"The number of rows are:\",df.shape[0])\n",
    "print(\"The number of columns are:\",df.shape[1])"
   ]
  },
  {
   "cell_type": "markdown",
   "id": "985d0af7-d44c-45f7-a1e3-a455dc19528f",
   "metadata": {},
   "source": [
    "## How to drop the columns ## "
   ]
  },
  {
   "cell_type": "markdown",
   "id": "b16753bb-bd91-4eb1-8a10-6893aa059184",
   "metadata": {},
   "source": [
    "- In order to drop column we need 3 arguments\n",
    "  - column name\n",
    "  - axis  = 0 , **represents rows** , axis =1 , **represents column**\n",
    "  - inplace - we are dropping column means we are modifying the df, so this modifications we want to save in same or different variable\n",
    "  - if you want to keep in the same variable then inplace=True  **inplace=same place**"
   ]
  },
  {
   "cell_type": "code",
   "execution_count": 60,
   "id": "c1202abb-9c2e-454a-b40a-1b361dbe08c6",
   "metadata": {},
   "outputs": [
    {
     "data": {
      "text/html": [
       "<div>\n",
       "<style scoped>\n",
       "    .dataframe tbody tr th:only-of-type {\n",
       "        vertical-align: middle;\n",
       "    }\n",
       "\n",
       "    .dataframe tbody tr th {\n",
       "        vertical-align: top;\n",
       "    }\n",
       "\n",
       "    .dataframe thead th {\n",
       "        text-align: right;\n",
       "    }\n",
       "</style>\n",
       "<table border=\"1\" class=\"dataframe\">\n",
       "  <thead>\n",
       "    <tr style=\"text-align: right;\">\n",
       "      <th></th>\n",
       "      <th>Names</th>\n",
       "      <th>Age</th>\n",
       "      <th>city</th>\n",
       "    </tr>\n",
       "  </thead>\n",
       "  <tbody>\n",
       "    <tr>\n",
       "      <th>A</th>\n",
       "      <td>Atharv</td>\n",
       "      <td>28</td>\n",
       "      <td>Blore</td>\n",
       "    </tr>\n",
       "    <tr>\n",
       "      <th>B</th>\n",
       "      <td>Shreyash</td>\n",
       "      <td>30</td>\n",
       "      <td>Hyd</td>\n",
       "    </tr>\n",
       "    <tr>\n",
       "      <th>C</th>\n",
       "      <td>Bharghavi</td>\n",
       "      <td>31</td>\n",
       "      <td>Pune</td>\n",
       "    </tr>\n",
       "    <tr>\n",
       "      <th>D</th>\n",
       "      <td>Gauri</td>\n",
       "      <td>29</td>\n",
       "      <td>Mumbai</td>\n",
       "    </tr>\n",
       "  </tbody>\n",
       "</table>\n",
       "</div>"
      ],
      "text/plain": [
       "       Names Age    city\n",
       "A     Atharv  28   Blore\n",
       "B   Shreyash  30     Hyd\n",
       "C  Bharghavi  31    Pune\n",
       "D      Gauri  29  Mumbai"
      ]
     },
     "execution_count": 60,
     "metadata": {},
     "output_type": "execute_result"
    }
   ],
   "source": [
    "df"
   ]
  },
  {
   "cell_type": "code",
   "execution_count": 62,
   "id": "ca7be838-ccb8-4b9d-9353-b5d7943d315a",
   "metadata": {},
   "outputs": [],
   "source": [
    "df.drop('city',axis=1,inplace=True)"
   ]
  },
  {
   "cell_type": "code",
   "execution_count": 63,
   "id": "43840eaf-5aa9-463c-bcdc-8855cf7cca54",
   "metadata": {},
   "outputs": [
    {
     "data": {
      "text/html": [
       "<div>\n",
       "<style scoped>\n",
       "    .dataframe tbody tr th:only-of-type {\n",
       "        vertical-align: middle;\n",
       "    }\n",
       "\n",
       "    .dataframe tbody tr th {\n",
       "        vertical-align: top;\n",
       "    }\n",
       "\n",
       "    .dataframe thead th {\n",
       "        text-align: right;\n",
       "    }\n",
       "</style>\n",
       "<table border=\"1\" class=\"dataframe\">\n",
       "  <thead>\n",
       "    <tr style=\"text-align: right;\">\n",
       "      <th></th>\n",
       "      <th>Names</th>\n",
       "      <th>Age</th>\n",
       "    </tr>\n",
       "  </thead>\n",
       "  <tbody>\n",
       "    <tr>\n",
       "      <th>A</th>\n",
       "      <td>Atharv</td>\n",
       "      <td>28</td>\n",
       "    </tr>\n",
       "    <tr>\n",
       "      <th>B</th>\n",
       "      <td>Shreyash</td>\n",
       "      <td>30</td>\n",
       "    </tr>\n",
       "    <tr>\n",
       "      <th>C</th>\n",
       "      <td>Bharghavi</td>\n",
       "      <td>31</td>\n",
       "    </tr>\n",
       "    <tr>\n",
       "      <th>D</th>\n",
       "      <td>Gauri</td>\n",
       "      <td>29</td>\n",
       "    </tr>\n",
       "  </tbody>\n",
       "</table>\n",
       "</div>"
      ],
      "text/plain": [
       "       Names Age\n",
       "A     Atharv  28\n",
       "B   Shreyash  30\n",
       "C  Bharghavi  31\n",
       "D      Gauri  29"
      ]
     },
     "execution_count": 63,
     "metadata": {},
     "output_type": "execute_result"
    }
   ],
   "source": [
    "df"
   ]
  },
  {
   "cell_type": "code",
   "execution_count": 68,
   "id": "1f70971c-2b4b-44ff-84c1-107afc35087e",
   "metadata": {},
   "outputs": [],
   "source": [
    "df1 = df.drop('Age',axis=1)"
   ]
  },
  {
   "cell_type": "code",
   "execution_count": 69,
   "id": "db51a5a5-90d8-4be6-bf68-36460747afdc",
   "metadata": {},
   "outputs": [
    {
     "data": {
      "text/html": [
       "<div>\n",
       "<style scoped>\n",
       "    .dataframe tbody tr th:only-of-type {\n",
       "        vertical-align: middle;\n",
       "    }\n",
       "\n",
       "    .dataframe tbody tr th {\n",
       "        vertical-align: top;\n",
       "    }\n",
       "\n",
       "    .dataframe thead th {\n",
       "        text-align: right;\n",
       "    }\n",
       "</style>\n",
       "<table border=\"1\" class=\"dataframe\">\n",
       "  <thead>\n",
       "    <tr style=\"text-align: right;\">\n",
       "      <th></th>\n",
       "      <th>Names</th>\n",
       "    </tr>\n",
       "  </thead>\n",
       "  <tbody>\n",
       "    <tr>\n",
       "      <th>A</th>\n",
       "      <td>Atharv</td>\n",
       "    </tr>\n",
       "    <tr>\n",
       "      <th>B</th>\n",
       "      <td>Shreyash</td>\n",
       "    </tr>\n",
       "    <tr>\n",
       "      <th>C</th>\n",
       "      <td>Bharghavi</td>\n",
       "    </tr>\n",
       "    <tr>\n",
       "      <th>D</th>\n",
       "      <td>Gauri</td>\n",
       "    </tr>\n",
       "  </tbody>\n",
       "</table>\n",
       "</div>"
      ],
      "text/plain": [
       "       Names\n",
       "A     Atharv\n",
       "B   Shreyash\n",
       "C  Bharghavi\n",
       "D      Gauri"
      ]
     },
     "execution_count": 69,
     "metadata": {},
     "output_type": "execute_result"
    }
   ],
   "source": [
    "df1"
   ]
  },
  {
   "cell_type": "code",
   "execution_count": 71,
   "id": "86fada03-d563-4a54-bff8-3238729fe99e",
   "metadata": {},
   "outputs": [],
   "source": [
    "df2 = df.drop('D',axis=0)"
   ]
  },
  {
   "cell_type": "code",
   "execution_count": 72,
   "id": "6d0344ef-a720-45f7-a7b5-637f8011d1c6",
   "metadata": {},
   "outputs": [
    {
     "data": {
      "text/html": [
       "<div>\n",
       "<style scoped>\n",
       "    .dataframe tbody tr th:only-of-type {\n",
       "        vertical-align: middle;\n",
       "    }\n",
       "\n",
       "    .dataframe tbody tr th {\n",
       "        vertical-align: top;\n",
       "    }\n",
       "\n",
       "    .dataframe thead th {\n",
       "        text-align: right;\n",
       "    }\n",
       "</style>\n",
       "<table border=\"1\" class=\"dataframe\">\n",
       "  <thead>\n",
       "    <tr style=\"text-align: right;\">\n",
       "      <th></th>\n",
       "      <th>Names</th>\n",
       "      <th>Age</th>\n",
       "    </tr>\n",
       "  </thead>\n",
       "  <tbody>\n",
       "    <tr>\n",
       "      <th>A</th>\n",
       "      <td>Atharv</td>\n",
       "      <td>28</td>\n",
       "    </tr>\n",
       "    <tr>\n",
       "      <th>B</th>\n",
       "      <td>Shreyash</td>\n",
       "      <td>30</td>\n",
       "    </tr>\n",
       "    <tr>\n",
       "      <th>C</th>\n",
       "      <td>Bharghavi</td>\n",
       "      <td>31</td>\n",
       "    </tr>\n",
       "  </tbody>\n",
       "</table>\n",
       "</div>"
      ],
      "text/plain": [
       "       Names Age\n",
       "A     Atharv  28\n",
       "B   Shreyash  30\n",
       "C  Bharghavi  31"
      ]
     },
     "execution_count": 72,
     "metadata": {},
     "output_type": "execute_result"
    }
   ],
   "source": [
    "df2"
   ]
  },
  {
   "cell_type": "code",
   "execution_count": 73,
   "id": "289aa664-8ee2-44ef-927a-ede104d43a8b",
   "metadata": {},
   "outputs": [
    {
     "data": {
      "text/plain": [
       "(       Names Age\n",
       " A     Atharv  28\n",
       " B   Shreyash  30\n",
       " C  Bharghavi  31\n",
       " D      Gauri  29,\n",
       "        Names\n",
       " A     Atharv\n",
       " B   Shreyash\n",
       " C  Bharghavi\n",
       " D      Gauri,\n",
       "        Names Age\n",
       " A     Atharv  28\n",
       " B   Shreyash  30\n",
       " C  Bharghavi  31)"
      ]
     },
     "execution_count": 73,
     "metadata": {},
     "output_type": "execute_result"
    }
   ],
   "source": [
    "df,df1,df2"
   ]
  },
  {
   "cell_type": "code",
   "execution_count": 74,
   "id": "6778d567-7006-49f6-9f8c-f34107b725d7",
   "metadata": {},
   "outputs": [
    {
     "data": {
      "text/html": [
       "<div>\n",
       "<style scoped>\n",
       "    .dataframe tbody tr th:only-of-type {\n",
       "        vertical-align: middle;\n",
       "    }\n",
       "\n",
       "    .dataframe tbody tr th {\n",
       "        vertical-align: top;\n",
       "    }\n",
       "\n",
       "    .dataframe thead th {\n",
       "        text-align: right;\n",
       "    }\n",
       "</style>\n",
       "<table border=\"1\" class=\"dataframe\">\n",
       "  <thead>\n",
       "    <tr style=\"text-align: right;\">\n",
       "      <th></th>\n",
       "      <th>Names</th>\n",
       "      <th>Age</th>\n",
       "      <th>city</th>\n",
       "    </tr>\n",
       "  </thead>\n",
       "  <tbody>\n",
       "    <tr>\n",
       "      <th>A</th>\n",
       "      <td>Atharv</td>\n",
       "      <td>28</td>\n",
       "      <td>Blore</td>\n",
       "    </tr>\n",
       "    <tr>\n",
       "      <th>B</th>\n",
       "      <td>Shreyash</td>\n",
       "      <td>30</td>\n",
       "      <td>Hyd</td>\n",
       "    </tr>\n",
       "    <tr>\n",
       "      <th>C</th>\n",
       "      <td>Bharghavi</td>\n",
       "      <td>31</td>\n",
       "      <td>Pune</td>\n",
       "    </tr>\n",
       "    <tr>\n",
       "      <th>D</th>\n",
       "      <td>Gauri</td>\n",
       "      <td>29</td>\n",
       "      <td>Mumbai</td>\n",
       "    </tr>\n",
       "  </tbody>\n",
       "</table>\n",
       "</div>"
      ],
      "text/plain": [
       "       Names Age    city\n",
       "A     Atharv  28   Blore\n",
       "B   Shreyash  30     Hyd\n",
       "C  Bharghavi  31    Pune\n",
       "D      Gauri  29  Mumbai"
      ]
     },
     "execution_count": 74,
     "metadata": {},
     "output_type": "execute_result"
    }
   ],
   "source": [
    "names = ['Atharv','Shreyash', 'Bharghavi','Gauri']\n",
    "\n",
    "age = ['28','30', '31','29']\n",
    "\n",
    "city = ['Blore', 'Hyd', 'Pune','Mumbai']\n",
    "\n",
    "data= zip(names,age,city)\n",
    "cols = ['Names','Age','city']\n",
    "idx = ['A','B','C','D']      # number of values in list = number of index\n",
    "\n",
    "df=pd.DataFrame(data,index=idx,columns=cols) \n",
    "df"
   ]
  },
  {
   "cell_type": "code",
   "execution_count": 80,
   "id": "8ea364ee-8b39-4243-a3f8-7ed02c058f94",
   "metadata": {
    "scrolled": true
   },
   "outputs": [],
   "source": [
    "df.drop(['Age','city'],axis=1,inplace=True)\n"
   ]
  },
  {
   "cell_type": "code",
   "execution_count": 81,
   "id": "2ef52c59-36ec-46cc-b1ed-f2baea2bc2c4",
   "metadata": {},
   "outputs": [
    {
     "data": {
      "text/html": [
       "<div>\n",
       "<style scoped>\n",
       "    .dataframe tbody tr th:only-of-type {\n",
       "        vertical-align: middle;\n",
       "    }\n",
       "\n",
       "    .dataframe tbody tr th {\n",
       "        vertical-align: top;\n",
       "    }\n",
       "\n",
       "    .dataframe thead th {\n",
       "        text-align: right;\n",
       "    }\n",
       "</style>\n",
       "<table border=\"1\" class=\"dataframe\">\n",
       "  <thead>\n",
       "    <tr style=\"text-align: right;\">\n",
       "      <th></th>\n",
       "      <th>Names</th>\n",
       "    </tr>\n",
       "  </thead>\n",
       "  <tbody>\n",
       "    <tr>\n",
       "      <th>A</th>\n",
       "      <td>Atharv</td>\n",
       "    </tr>\n",
       "    <tr>\n",
       "      <th>B</th>\n",
       "      <td>Shreyash</td>\n",
       "    </tr>\n",
       "    <tr>\n",
       "      <th>C</th>\n",
       "      <td>Bharghavi</td>\n",
       "    </tr>\n",
       "    <tr>\n",
       "      <th>D</th>\n",
       "      <td>Gauri</td>\n",
       "    </tr>\n",
       "  </tbody>\n",
       "</table>\n",
       "</div>"
      ],
      "text/plain": [
       "       Names\n",
       "A     Atharv\n",
       "B   Shreyash\n",
       "C  Bharghavi\n",
       "D      Gauri"
      ]
     },
     "execution_count": 81,
     "metadata": {},
     "output_type": "execute_result"
    }
   ],
   "source": [
    "df"
   ]
  },
  {
   "cell_type": "markdown",
   "id": "4f8bdfee-2108-40e4-941b-e216fd33cb73",
   "metadata": {},
   "source": [
    "## How to save Dataframe ##"
   ]
  },
  {
   "cell_type": "code",
   "execution_count": 3,
   "id": "fb890b24-5a75-4337-aac0-bf85c1347354",
   "metadata": {},
   "outputs": [
    {
     "data": {
      "text/html": [
       "<div>\n",
       "<style scoped>\n",
       "    .dataframe tbody tr th:only-of-type {\n",
       "        vertical-align: middle;\n",
       "    }\n",
       "\n",
       "    .dataframe tbody tr th {\n",
       "        vertical-align: top;\n",
       "    }\n",
       "\n",
       "    .dataframe thead th {\n",
       "        text-align: right;\n",
       "    }\n",
       "</style>\n",
       "<table border=\"1\" class=\"dataframe\">\n",
       "  <thead>\n",
       "    <tr style=\"text-align: right;\">\n",
       "      <th></th>\n",
       "      <th>Names</th>\n",
       "      <th>Age</th>\n",
       "      <th>city</th>\n",
       "    </tr>\n",
       "  </thead>\n",
       "  <tbody>\n",
       "    <tr>\n",
       "      <th>A</th>\n",
       "      <td>Atharv</td>\n",
       "      <td>28</td>\n",
       "      <td>Blore</td>\n",
       "    </tr>\n",
       "    <tr>\n",
       "      <th>B</th>\n",
       "      <td>Shreyash</td>\n",
       "      <td>30</td>\n",
       "      <td>Hyd</td>\n",
       "    </tr>\n",
       "    <tr>\n",
       "      <th>C</th>\n",
       "      <td>Bharghavi</td>\n",
       "      <td>31</td>\n",
       "      <td>Pune</td>\n",
       "    </tr>\n",
       "    <tr>\n",
       "      <th>D</th>\n",
       "      <td>Gauri</td>\n",
       "      <td>29</td>\n",
       "      <td>Mumbai</td>\n",
       "    </tr>\n",
       "  </tbody>\n",
       "</table>\n",
       "</div>"
      ],
      "text/plain": [
       "       Names Age    city\n",
       "A     Atharv  28   Blore\n",
       "B   Shreyash  30     Hyd\n",
       "C  Bharghavi  31    Pune\n",
       "D      Gauri  29  Mumbai"
      ]
     },
     "execution_count": 3,
     "metadata": {},
     "output_type": "execute_result"
    }
   ],
   "source": [
    "names = ['Atharv','Shreyash', 'Bharghavi','Gauri']\n",
    "\n",
    "age = ['28','30', '31','29']\n",
    "\n",
    "city = ['Blore', 'Hyd', 'Pune','Mumbai']\n",
    "\n",
    "data= zip(names,age,city)\n",
    "cols = ['Names','Age','city']\n",
    "idx = ['A','B','C','D']      # number of values in list = number of index\n",
    "\n",
    "df=pd.DataFrame(data,index=idx,columns=cols) \n",
    "df"
   ]
  },
  {
   "cell_type": "markdown",
   "id": "16aad584-424a-4509-b447-e5837acf68dd",
   "metadata": {},
   "source": [
    "**Generally dataframes are of 2 types:**\n",
    "- csv[comma seperated value]\n",
    "-  excel "
   ]
  },
  {
   "cell_type": "code",
   "execution_count": 97,
   "id": "f14daa4f-48f5-46f1-ac15-8479529a0419",
   "metadata": {},
   "outputs": [],
   "source": [
    "df.to_csv(\"dataCSV.csv\")   # stored in data.csv file , extra index is coming"
   ]
  },
  {
   "cell_type": "code",
   "execution_count": 4,
   "id": "c533ab81-8840-4fc7-ad3b-b28fbcdad375",
   "metadata": {},
   "outputs": [],
   "source": [
    "df.to_excel(\"data2.xlsx\",index=False)"
   ]
  },
  {
   "cell_type": "code",
   "execution_count": null,
   "id": "0cde8e24-9564-4dc6-853e-c1b15e3a31db",
   "metadata": {},
   "outputs": [],
   "source": []
  }
 ],
 "metadata": {
  "kernelspec": {
   "display_name": "Python 3 (ipykernel)",
   "language": "python",
   "name": "python3"
  },
  "language_info": {
   "codemirror_mode": {
    "name": "ipython",
    "version": 3
   },
   "file_extension": ".py",
   "mimetype": "text/x-python",
   "name": "python",
   "nbconvert_exporter": "python",
   "pygments_lexer": "ipython3",
   "version": "3.11.7"
  }
 },
 "nbformat": 4,
 "nbformat_minor": 5
}
